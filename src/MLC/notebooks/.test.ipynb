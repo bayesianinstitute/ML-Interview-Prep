{
 "cells": [
  {
   "attachments": {},
   "cell_type": "markdown",
   "metadata": {},
   "source": [
    "### Kmeans"
   ]
  },
  {
   "cell_type": "code",
   "execution_count": 33,
   "metadata": {},
   "outputs": [],
   "source": [
    "import numpy as np \n",
    "class KMeans:\n",
    "    def __init__(self, k, max_it=100):\n",
    "        self.k = k \n",
    "        self.max_it = max_it \n",
    "        # self.centroids = None \n",
    "    \n",
    "\n",
    "    def fit(self, X):\n",
    "        # init centroids \n",
    "        self.centroids = X[np.random.choice(X.shape[0], size=self.k, replace=False)]\n",
    "        # for each it \n",
    "        for i in range(self.max_it):\n",
    "            # assign points to closest centroid \n",
    "            # clusters = []\n",
    "            # for j in range(len(X)):\n",
    "            #     dist = np.linalg.norm(X[j] - self.centroids, axis=1)\n",
    "            #     clusters.append(np.argmin(dist))\n",
    "            dist = np.linalg.norm(X[:, np.newaxis] - self.centroids, axis=2)\n",
    "            clusters = np.argmin(dist, axis=1)\n",
    "            \n",
    "            # update centroids (mean of clusters)\n",
    "            for k in range(self.k):\n",
    "                cluster_X = X[np.where(np.array(clusters) == k)]\n",
    "                if len(cluster_X) > 0 : \n",
    "                    self.centroids[k] = np.mean(cluster_X, axis=0)\n",
    "            # check convergence / termination \n",
    "            if i > 0 and np.array_equal(self.centroids, pre_centroids): \n",
    "                break \n",
    "            pre_centroids = self.centroids \n",
    "        \n",
    "        self.clusters = clusters \n",
    "        \n",
    "    def predict(self, X):\n",
    "        clusters = []\n",
    "        for j in range(len(X)):\n",
    "            dist = np.linalg.norm(X[j] - self.centroids, axis=1)\n",
    "            clusters.append(np.argmin(dist))\n",
    "        return clusters \n",
    "        \n",
    "\n",
    "\n"
   ]
  },
  {
   "cell_type": "code",
   "execution_count": 34,
   "metadata": {},
   "outputs": [
    {
     "name": "stdout",
     "output_type": "stream",
     "text": [
      "[0, 0, 0, 0, 0, 1, 1, 1, 1, 1]\n",
      "[[ 4.62131563  5.38818365]\n",
      " [-4.47889882 -4.71564167]]\n"
     ]
    }
   ],
   "source": [
    "x1 = np.random.randn(5,2) + 5 \n",
    "x2 = np.random.randn(5,2) - 5\n",
    "X = np.concatenate([x1,x2], axis=0)\n",
    "\n",
    "\n",
    "kmeans = KMeans(k=2)\n",
    "kmeans.fit(X)\n",
    "clusters = kmeans.predict(X)\n",
    "print(clusters)\n",
    "print(kmeans.centroids)"
   ]
  },
  {
   "cell_type": "code",
   "execution_count": 19,
   "metadata": {},
   "outputs": [
    {
     "data": {
      "image/png": "[encoded data removed]",
      "text/plain": [
       "<Figure size 432x288 with 1 Axes>"
      ]
     },
     "metadata": {
      "needs_background": "light"
     },
     "output_type": "display_data"
    }
   ],
   "source": [
    "from matplotlib import pyplot as plt \n",
    "\n",
    "colors = ['b', 'r']\n",
    "for k in range(kmeans.k):\n",
    "    plt.scatter(X[np.where(np.array(clusters) == k)][:,0], \n",
    "                X[np.where(np.array(clusters) == k)][:,1], \n",
    "                color=colors[k])\n",
    "plt.scatter(kmeans.centroids[:,0], kmeans.centroids[:,1], color='black')\n",
    "plt.show()"
   ]
  },
  {
   "cell_type": "code",
   "execution_count": 22,
   "metadata": {},
   "outputs": [
    {
     "data": {
      "text/plain": [
       "(10, 1, 2)"
      ]
     },
     "execution_count": 22,
     "metadata": {},
     "output_type": "execute_result"
    }
   ],
   "source": [
    "X[:, np.newaxis] "
   ]
  },
  {
   "attachments": {},
   "cell_type": "markdown",
   "metadata": {},
   "source": [
    "### KNN"
   ]
  },
  {
   "cell_type": "code",
   "execution_count": 66,
   "metadata": {},
   "outputs": [
    {
     "name": "stdout",
     "output_type": "stream",
     "text": [
      "(100, 2) (100,)\n",
      "[0. 0. 1. 0. 1. 1. 1. 0. 0. 0. 1. 0. 0. 0. 0. 0. 0. 1. 1. 0.]\n",
      "[0. 0. 1. 0. 1. 1. 1. 0. 0. 0. 1. 0. 0. 0. 0. 1. 0. 1. 1. 1.]\n"
     ]
    }
   ],
   "source": [
    "import numpy as np \n",
    "from collections import Counter\n",
    "class KNN:\n",
    "    def __init__(self, k):\n",
    "        self.k = k \n",
    "    \n",
    "    \n",
    "    def fit(self, X, y):\n",
    "        self.X = X\n",
    "        self.y = y \n",
    "    \n",
    "    def predict(self, X_test):\n",
    "        y_pred = []\n",
    "        for x in X_test: \n",
    "            dist = np.linalg.norm(x - self.X, axis=1)\n",
    "            knn_idcs = np.argsort(dist)[:self.k]\n",
    "            knn_labels = self.y[knn_idcs]\n",
    "            label = Counter(knn_labels).most_common(1)[0][0]\n",
    "            y_pred.append(label)\n",
    "        return np.array(y_pred)\n",
    "\n",
    "\n",
    "from sklearn.model_selection import train_test_split\n",
    "\n",
    "x1 = np.random.randn(50,2) + 1\n",
    "x2 = np.random.randn(50,2) - 1\n",
    "X = np.concatenate([x1, x2], axis=0)\n",
    "y = np.concatenate([np.ones(50), np.zeros(50)])\n",
    "print(X.shape, y.shape)\n",
    "X_train, X_test, y_train, y_test = train_test_split(X, y, test_size=0.2)\n",
    "\n",
    "\n",
    "knn = KNN(k=5)\n",
    "knn.fit(X_train, y_train)\n",
    "y_pred = knn.predict(X_test)\n",
    "print(y_pred)\n",
    "print(y_test)\n"
   ]
  },
  {
   "cell_type": "code",
   "execution_count": 59,
   "metadata": {},
   "outputs": [
    {
     "data": {
      "text/plain": [
       "(40, 2)"
      ]
     },
     "execution_count": 59,
     "metadata": {},
     "output_type": "execute_result"
    }
   ],
   "source": [
    "X_test.shape"
   ]
  },
  {
   "cell_type": "code",
   "execution_count": 42,
   "metadata": {},
   "outputs": [
    {
     "data": {
      "text/plain": [
       "array([0., 0.])"
      ]
     },
     "execution_count": 42,
     "metadata": {},
     "output_type": "execute_result"
    }
   ],
   "source": [
    "np.zeros(2,)"
   ]
  },
  {
   "cell_type": "code",
   "execution_count": 53,
   "metadata": {},
   "outputs": [
    {
     "data": {
      "text/plain": [
       "array([1., 1., 1., 0., 0., 0.])"
      ]
     },
     "execution_count": 53,
     "metadata": {},
     "output_type": "execute_result"
    }
   ],
   "source": [
    "np.concatenate([np.ones(3), np.zeros(3)])"
   ]
  },
  {
   "attachments": {},
   "cell_type": "markdown",
   "metadata": {},
   "source": [
    "### Lin Regression "
   ]
  },
  {
   "cell_type": "code",
   "execution_count": null,
   "metadata": {},
   "outputs": [],
   "source": [
    "class LinearRegression: \n",
    "    def __init__(self):\n",
    "        self.m = None \n",
    "        self.b = None \n",
    "    \n",
    "    def fit(self, X, y):\n",
    "        \n",
    "\n",
    "\n",
    "    def predict(self, X):\n",
    "        pass "
   ]
  }
 ],
 "metadata": {
  "kernelspec": {
   "display_name": "Python 3",
   "language": "python",
   "name": "python3"
  },
  "language_info": {
   "codemirror_mode": {
    "name": "ipython",
    "version": 3
   },
   "file_extension": ".py",
   "mimetype": "text/x-python",
   "name": "python",
   "nbconvert_exporter": "python",
   "pygments_lexer": "ipython3",
   "version": "3.9.7"
  },
  "orig_nbformat": 4
 },
 "nbformat": 4,
 "nbformat_minor": 2
}
